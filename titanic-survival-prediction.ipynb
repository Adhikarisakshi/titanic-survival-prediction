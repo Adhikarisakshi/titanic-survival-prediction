{
 "cells": [
  {
   "cell_type": "code",
   "execution_count": 1,
   "id": "e26de168",
   "metadata": {
    "execution": {
     "iopub.execute_input": "2021-07-28T16:09:40.146500Z",
     "iopub.status.busy": "2021-07-28T16:09:40.145427Z",
     "iopub.status.idle": "2021-07-28T16:09:40.177536Z",
     "shell.execute_reply": "2021-07-28T16:09:40.176239Z",
     "shell.execute_reply.started": "2021-07-28T16:08:40.331942Z"
    },
    "papermill": {
     "duration": 0.052395,
     "end_time": "2021-07-28T16:09:40.177710",
     "exception": false,
     "start_time": "2021-07-28T16:09:40.125315",
     "status": "completed"
    },
    "tags": []
   },
   "outputs": [],
   "source": [
    "import pandas as pd\n",
    "df=pd.read_csv(\"../input/data-science-day1-titanic/DSB_Day1_Titanic_train.csv\")"
   ]
  },
  {
   "cell_type": "code",
   "execution_count": 2,
   "id": "ee3c8c90",
   "metadata": {
    "execution": {
     "iopub.execute_input": "2021-07-28T16:09:40.298319Z",
     "iopub.status.busy": "2021-07-28T16:09:40.297674Z",
     "iopub.status.idle": "2021-07-28T16:09:40.330005Z",
     "shell.execute_reply": "2021-07-28T16:09:40.329432Z",
     "shell.execute_reply.started": "2021-07-28T16:08:40.348277Z"
    },
    "papermill": {
     "duration": 0.135306,
     "end_time": "2021-07-28T16:09:40.330165",
     "exception": false,
     "start_time": "2021-07-28T16:09:40.194859",
     "status": "completed"
    },
    "tags": []
   },
   "outputs": [
    {
     "data": {
      "text/html": [
       "<div>\n",
       "<style scoped>\n",
       "    .dataframe tbody tr th:only-of-type {\n",
       "        vertical-align: middle;\n",
       "    }\n",
       "\n",
       "    .dataframe tbody tr th {\n",
       "        vertical-align: top;\n",
       "    }\n",
       "\n",
       "    .dataframe thead th {\n",
       "        text-align: right;\n",
       "    }\n",
       "</style>\n",
       "<table border=\"1\" class=\"dataframe\">\n",
       "  <thead>\n",
       "    <tr style=\"text-align: right;\">\n",
       "      <th></th>\n",
       "      <th>PassengerId</th>\n",
       "      <th>Survived</th>\n",
       "      <th>Pclass</th>\n",
       "      <th>Name</th>\n",
       "      <th>Sex</th>\n",
       "      <th>Age</th>\n",
       "      <th>SibSp</th>\n",
       "      <th>Parch</th>\n",
       "      <th>Ticket</th>\n",
       "      <th>Fare</th>\n",
       "      <th>Cabin</th>\n",
       "      <th>Embarked</th>\n",
       "    </tr>\n",
       "  </thead>\n",
       "  <tbody>\n",
       "    <tr>\n",
       "      <th>0</th>\n",
       "      <td>1</td>\n",
       "      <td>0</td>\n",
       "      <td>3</td>\n",
       "      <td>Braund, Mr. Owen Harris</td>\n",
       "      <td>male</td>\n",
       "      <td>22.0</td>\n",
       "      <td>1</td>\n",
       "      <td>0</td>\n",
       "      <td>A/5 21171</td>\n",
       "      <td>7.2500</td>\n",
       "      <td>NaN</td>\n",
       "      <td>S</td>\n",
       "    </tr>\n",
       "    <tr>\n",
       "      <th>1</th>\n",
       "      <td>2</td>\n",
       "      <td>1</td>\n",
       "      <td>1</td>\n",
       "      <td>Cumings, Mrs. John Bradley (Florence Briggs Th...</td>\n",
       "      <td>female</td>\n",
       "      <td>38.0</td>\n",
       "      <td>1</td>\n",
       "      <td>0</td>\n",
       "      <td>PC 17599</td>\n",
       "      <td>71.2833</td>\n",
       "      <td>C85</td>\n",
       "      <td>C</td>\n",
       "    </tr>\n",
       "    <tr>\n",
       "      <th>2</th>\n",
       "      <td>3</td>\n",
       "      <td>1</td>\n",
       "      <td>3</td>\n",
       "      <td>Heikkinen, Miss. Laina</td>\n",
       "      <td>female</td>\n",
       "      <td>26.0</td>\n",
       "      <td>0</td>\n",
       "      <td>0</td>\n",
       "      <td>STON/O2. 3101282</td>\n",
       "      <td>7.9250</td>\n",
       "      <td>NaN</td>\n",
       "      <td>S</td>\n",
       "    </tr>\n",
       "    <tr>\n",
       "      <th>3</th>\n",
       "      <td>4</td>\n",
       "      <td>1</td>\n",
       "      <td>1</td>\n",
       "      <td>Futrelle, Mrs. Jacques Heath (Lily May Peel)</td>\n",
       "      <td>female</td>\n",
       "      <td>35.0</td>\n",
       "      <td>1</td>\n",
       "      <td>0</td>\n",
       "      <td>113803</td>\n",
       "      <td>53.1000</td>\n",
       "      <td>C123</td>\n",
       "      <td>S</td>\n",
       "    </tr>\n",
       "    <tr>\n",
       "      <th>4</th>\n",
       "      <td>5</td>\n",
       "      <td>0</td>\n",
       "      <td>3</td>\n",
       "      <td>Allen, Mr. William Henry</td>\n",
       "      <td>male</td>\n",
       "      <td>35.0</td>\n",
       "      <td>0</td>\n",
       "      <td>0</td>\n",
       "      <td>373450</td>\n",
       "      <td>8.0500</td>\n",
       "      <td>NaN</td>\n",
       "      <td>S</td>\n",
       "    </tr>\n",
       "  </tbody>\n",
       "</table>\n",
       "</div>"
      ],
      "text/plain": [
       "   PassengerId  Survived  Pclass  \\\n",
       "0            1         0       3   \n",
       "1            2         1       1   \n",
       "2            3         1       3   \n",
       "3            4         1       1   \n",
       "4            5         0       3   \n",
       "\n",
       "                                                Name     Sex   Age  SibSp  \\\n",
       "0                            Braund, Mr. Owen Harris    male  22.0      1   \n",
       "1  Cumings, Mrs. John Bradley (Florence Briggs Th...  female  38.0      1   \n",
       "2                             Heikkinen, Miss. Laina  female  26.0      0   \n",
       "3       Futrelle, Mrs. Jacques Heath (Lily May Peel)  female  35.0      1   \n",
       "4                           Allen, Mr. William Henry    male  35.0      0   \n",
       "\n",
       "   Parch            Ticket     Fare Cabin Embarked  \n",
       "0      0         A/5 21171   7.2500   NaN        S  \n",
       "1      0          PC 17599  71.2833   C85        C  \n",
       "2      0  STON/O2. 3101282   7.9250   NaN        S  \n",
       "3      0            113803  53.1000  C123        S  \n",
       "4      0            373450   8.0500   NaN        S  "
      ]
     },
     "execution_count": 2,
     "metadata": {},
     "output_type": "execute_result"
    }
   ],
   "source": [
    "df.head()"
   ]
  },
  {
   "cell_type": "code",
   "execution_count": 3,
   "id": "9397eccb",
   "metadata": {
    "execution": {
     "iopub.execute_input": "2021-07-28T16:09:40.370073Z",
     "iopub.status.busy": "2021-07-28T16:09:40.369170Z",
     "iopub.status.idle": "2021-07-28T16:09:40.372003Z",
     "shell.execute_reply": "2021-07-28T16:09:40.371566Z",
     "shell.execute_reply.started": "2021-07-28T16:08:40.374290Z"
    },
    "papermill": {
     "duration": 0.025812,
     "end_time": "2021-07-28T16:09:40.372151",
     "exception": false,
     "start_time": "2021-07-28T16:09:40.346339",
     "status": "completed"
    },
    "tags": []
   },
   "outputs": [],
   "source": [
    "df.drop(['Ticket'],axis='columns',inplace=True)"
   ]
  },
  {
   "cell_type": "code",
   "execution_count": 4,
   "id": "bba19323",
   "metadata": {
    "execution": {
     "iopub.execute_input": "2021-07-28T16:09:40.409556Z",
     "iopub.status.busy": "2021-07-28T16:09:40.408836Z",
     "iopub.status.idle": "2021-07-28T16:09:40.410688Z",
     "shell.execute_reply": "2021-07-28T16:09:40.411105Z",
     "shell.execute_reply.started": "2021-07-28T16:08:40.387685Z"
    },
    "papermill": {
     "duration": 0.023338,
     "end_time": "2021-07-28T16:09:40.411303",
     "exception": false,
     "start_time": "2021-07-28T16:09:40.387965",
     "status": "completed"
    },
    "tags": []
   },
   "outputs": [],
   "source": [
    "df.drop(['Parch'],axis='columns',inplace=True)"
   ]
  },
  {
   "cell_type": "code",
   "execution_count": 5,
   "id": "0f655cbe",
   "metadata": {
    "execution": {
     "iopub.execute_input": "2021-07-28T16:09:40.452408Z",
     "iopub.status.busy": "2021-07-28T16:09:40.451516Z",
     "iopub.status.idle": "2021-07-28T16:09:40.458991Z",
     "shell.execute_reply": "2021-07-28T16:09:40.459524Z",
     "shell.execute_reply.started": "2021-07-28T16:08:40.404097Z"
    },
    "papermill": {
     "duration": 0.032617,
     "end_time": "2021-07-28T16:09:40.459692",
     "exception": false,
     "start_time": "2021-07-28T16:09:40.427075",
     "status": "completed"
    },
    "tags": []
   },
   "outputs": [],
   "source": [
    "df.drop(['SibSp'],axis='columns',inplace=True)"
   ]
  },
  {
   "cell_type": "code",
   "execution_count": 6,
   "id": "a2de6e93",
   "metadata": {
    "execution": {
     "iopub.execute_input": "2021-07-28T16:09:40.504590Z",
     "iopub.status.busy": "2021-07-28T16:09:40.503418Z",
     "iopub.status.idle": "2021-07-28T16:09:40.505555Z",
     "shell.execute_reply": "2021-07-28T16:09:40.506402Z",
     "shell.execute_reply.started": "2021-07-28T16:08:40.420253Z"
    },
    "papermill": {
     "duration": 0.027197,
     "end_time": "2021-07-28T16:09:40.506640",
     "exception": false,
     "start_time": "2021-07-28T16:09:40.479443",
     "status": "completed"
    },
    "tags": []
   },
   "outputs": [],
   "source": [
    "df.drop(['Embarked'],axis='columns',inplace=True)"
   ]
  },
  {
   "cell_type": "code",
   "execution_count": 7,
   "id": "b18e9591",
   "metadata": {
    "execution": {
     "iopub.execute_input": "2021-07-28T16:09:40.541896Z",
     "iopub.status.busy": "2021-07-28T16:09:40.541314Z",
     "iopub.status.idle": "2021-07-28T16:09:40.566402Z",
     "shell.execute_reply": "2021-07-28T16:09:40.566836Z",
     "shell.execute_reply.started": "2021-07-28T16:08:40.434703Z"
    },
    "papermill": {
     "duration": 0.043592,
     "end_time": "2021-07-28T16:09:40.566997",
     "exception": false,
     "start_time": "2021-07-28T16:09:40.523405",
     "status": "completed"
    },
    "tags": []
   },
   "outputs": [
    {
     "data": {
      "text/html": [
       "<div>\n",
       "<style scoped>\n",
       "    .dataframe tbody tr th:only-of-type {\n",
       "        vertical-align: middle;\n",
       "    }\n",
       "\n",
       "    .dataframe tbody tr th {\n",
       "        vertical-align: top;\n",
       "    }\n",
       "\n",
       "    .dataframe thead th {\n",
       "        text-align: right;\n",
       "    }\n",
       "</style>\n",
       "<table border=\"1\" class=\"dataframe\">\n",
       "  <thead>\n",
       "    <tr style=\"text-align: right;\">\n",
       "      <th></th>\n",
       "      <th>PassengerId</th>\n",
       "      <th>Survived</th>\n",
       "      <th>Pclass</th>\n",
       "      <th>Age</th>\n",
       "      <th>Fare</th>\n",
       "    </tr>\n",
       "  </thead>\n",
       "  <tbody>\n",
       "    <tr>\n",
       "      <th>count</th>\n",
       "      <td>891.000000</td>\n",
       "      <td>891.000000</td>\n",
       "      <td>891.000000</td>\n",
       "      <td>714.000000</td>\n",
       "      <td>891.000000</td>\n",
       "    </tr>\n",
       "    <tr>\n",
       "      <th>mean</th>\n",
       "      <td>446.000000</td>\n",
       "      <td>0.383838</td>\n",
       "      <td>2.308642</td>\n",
       "      <td>29.699118</td>\n",
       "      <td>32.204208</td>\n",
       "    </tr>\n",
       "    <tr>\n",
       "      <th>std</th>\n",
       "      <td>257.353842</td>\n",
       "      <td>0.486592</td>\n",
       "      <td>0.836071</td>\n",
       "      <td>14.526497</td>\n",
       "      <td>49.693429</td>\n",
       "    </tr>\n",
       "    <tr>\n",
       "      <th>min</th>\n",
       "      <td>1.000000</td>\n",
       "      <td>0.000000</td>\n",
       "      <td>1.000000</td>\n",
       "      <td>0.420000</td>\n",
       "      <td>0.000000</td>\n",
       "    </tr>\n",
       "    <tr>\n",
       "      <th>25%</th>\n",
       "      <td>223.500000</td>\n",
       "      <td>0.000000</td>\n",
       "      <td>2.000000</td>\n",
       "      <td>20.125000</td>\n",
       "      <td>7.910400</td>\n",
       "    </tr>\n",
       "    <tr>\n",
       "      <th>50%</th>\n",
       "      <td>446.000000</td>\n",
       "      <td>0.000000</td>\n",
       "      <td>3.000000</td>\n",
       "      <td>28.000000</td>\n",
       "      <td>14.454200</td>\n",
       "    </tr>\n",
       "    <tr>\n",
       "      <th>75%</th>\n",
       "      <td>668.500000</td>\n",
       "      <td>1.000000</td>\n",
       "      <td>3.000000</td>\n",
       "      <td>38.000000</td>\n",
       "      <td>31.000000</td>\n",
       "    </tr>\n",
       "    <tr>\n",
       "      <th>max</th>\n",
       "      <td>891.000000</td>\n",
       "      <td>1.000000</td>\n",
       "      <td>3.000000</td>\n",
       "      <td>80.000000</td>\n",
       "      <td>512.329200</td>\n",
       "    </tr>\n",
       "  </tbody>\n",
       "</table>\n",
       "</div>"
      ],
      "text/plain": [
       "       PassengerId    Survived      Pclass         Age        Fare\n",
       "count   891.000000  891.000000  891.000000  714.000000  891.000000\n",
       "mean    446.000000    0.383838    2.308642   29.699118   32.204208\n",
       "std     257.353842    0.486592    0.836071   14.526497   49.693429\n",
       "min       1.000000    0.000000    1.000000    0.420000    0.000000\n",
       "25%     223.500000    0.000000    2.000000   20.125000    7.910400\n",
       "50%     446.000000    0.000000    3.000000   28.000000   14.454200\n",
       "75%     668.500000    1.000000    3.000000   38.000000   31.000000\n",
       "max     891.000000    1.000000    3.000000   80.000000  512.329200"
      ]
     },
     "execution_count": 7,
     "metadata": {},
     "output_type": "execute_result"
    }
   ],
   "source": [
    "df.describe()"
   ]
  },
  {
   "cell_type": "code",
   "execution_count": 8,
   "id": "20db0e92",
   "metadata": {
    "execution": {
     "iopub.execute_input": "2021-07-28T16:09:40.602643Z",
     "iopub.status.busy": "2021-07-28T16:09:40.602047Z",
     "iopub.status.idle": "2021-07-28T16:09:40.608784Z",
     "shell.execute_reply": "2021-07-28T16:09:40.609340Z",
     "shell.execute_reply.started": "2021-07-28T16:08:40.471532Z"
    },
    "papermill": {
     "duration": 0.025764,
     "end_time": "2021-07-28T16:09:40.609509",
     "exception": false,
     "start_time": "2021-07-28T16:09:40.583745",
     "status": "completed"
    },
    "tags": []
   },
   "outputs": [
    {
     "data": {
      "text/plain": [
       "PassengerId      0\n",
       "Survived         0\n",
       "Pclass           0\n",
       "Name             0\n",
       "Sex              0\n",
       "Age            177\n",
       "Fare             0\n",
       "Cabin          687\n",
       "dtype: int64"
      ]
     },
     "execution_count": 8,
     "metadata": {},
     "output_type": "execute_result"
    }
   ],
   "source": [
    "df.isnull().sum()"
   ]
  },
  {
   "cell_type": "code",
   "execution_count": 9,
   "id": "7c81fef0",
   "metadata": {
    "execution": {
     "iopub.execute_input": "2021-07-28T16:09:40.645352Z",
     "iopub.status.busy": "2021-07-28T16:09:40.644757Z",
     "iopub.status.idle": "2021-07-28T16:09:40.649486Z",
     "shell.execute_reply": "2021-07-28T16:09:40.649871Z",
     "shell.execute_reply.started": "2021-07-28T16:08:40.482058Z"
    },
    "papermill": {
     "duration": 0.024133,
     "end_time": "2021-07-28T16:09:40.650030",
     "exception": false,
     "start_time": "2021-07-28T16:09:40.625897",
     "status": "completed"
    },
    "tags": []
   },
   "outputs": [
    {
     "data": {
      "text/plain": [
       "29.69911764705882"
      ]
     },
     "execution_count": 9,
     "metadata": {},
     "output_type": "execute_result"
    }
   ],
   "source": [
    "df['Age'].mean()"
   ]
  },
  {
   "cell_type": "code",
   "execution_count": 10,
   "id": "281f2109",
   "metadata": {
    "execution": {
     "iopub.execute_input": "2021-07-28T16:09:40.686165Z",
     "iopub.status.busy": "2021-07-28T16:09:40.685591Z",
     "iopub.status.idle": "2021-07-28T16:09:40.690319Z",
     "shell.execute_reply": "2021-07-28T16:09:40.690718Z",
     "shell.execute_reply.started": "2021-07-28T16:08:40.494362Z"
    },
    "papermill": {
     "duration": 0.02413,
     "end_time": "2021-07-28T16:09:40.690881",
     "exception": false,
     "start_time": "2021-07-28T16:09:40.666751",
     "status": "completed"
    },
    "tags": []
   },
   "outputs": [],
   "source": [
    "df['Age'].fillna(df['Age'].mean(),inplace=True)"
   ]
  },
  {
   "cell_type": "code",
   "execution_count": 11,
   "id": "f6435f61",
   "metadata": {
    "execution": {
     "iopub.execute_input": "2021-07-28T16:09:40.727320Z",
     "iopub.status.busy": "2021-07-28T16:09:40.726684Z",
     "iopub.status.idle": "2021-07-28T16:09:40.750781Z",
     "shell.execute_reply": "2021-07-28T16:09:40.751216Z",
     "shell.execute_reply.started": "2021-07-28T16:08:40.591748Z"
    },
    "papermill": {
     "duration": 0.043711,
     "end_time": "2021-07-28T16:09:40.751399",
     "exception": false,
     "start_time": "2021-07-28T16:09:40.707688",
     "status": "completed"
    },
    "tags": []
   },
   "outputs": [
    {
     "data": {
      "text/html": [
       "<div>\n",
       "<style scoped>\n",
       "    .dataframe tbody tr th:only-of-type {\n",
       "        vertical-align: middle;\n",
       "    }\n",
       "\n",
       "    .dataframe tbody tr th {\n",
       "        vertical-align: top;\n",
       "    }\n",
       "\n",
       "    .dataframe thead th {\n",
       "        text-align: right;\n",
       "    }\n",
       "</style>\n",
       "<table border=\"1\" class=\"dataframe\">\n",
       "  <thead>\n",
       "    <tr style=\"text-align: right;\">\n",
       "      <th></th>\n",
       "      <th>PassengerId</th>\n",
       "      <th>Survived</th>\n",
       "      <th>Pclass</th>\n",
       "      <th>Name</th>\n",
       "      <th>Sex</th>\n",
       "      <th>Age</th>\n",
       "      <th>Fare</th>\n",
       "      <th>Cabin</th>\n",
       "      <th>female</th>\n",
       "      <th>male</th>\n",
       "    </tr>\n",
       "  </thead>\n",
       "  <tbody>\n",
       "    <tr>\n",
       "      <th>0</th>\n",
       "      <td>1</td>\n",
       "      <td>0</td>\n",
       "      <td>3</td>\n",
       "      <td>Braund, Mr. Owen Harris</td>\n",
       "      <td>male</td>\n",
       "      <td>22.000000</td>\n",
       "      <td>7.2500</td>\n",
       "      <td>NaN</td>\n",
       "      <td>0</td>\n",
       "      <td>1</td>\n",
       "    </tr>\n",
       "    <tr>\n",
       "      <th>1</th>\n",
       "      <td>2</td>\n",
       "      <td>1</td>\n",
       "      <td>1</td>\n",
       "      <td>Cumings, Mrs. John Bradley (Florence Briggs Th...</td>\n",
       "      <td>female</td>\n",
       "      <td>38.000000</td>\n",
       "      <td>71.2833</td>\n",
       "      <td>C85</td>\n",
       "      <td>1</td>\n",
       "      <td>0</td>\n",
       "    </tr>\n",
       "    <tr>\n",
       "      <th>2</th>\n",
       "      <td>3</td>\n",
       "      <td>1</td>\n",
       "      <td>3</td>\n",
       "      <td>Heikkinen, Miss. Laina</td>\n",
       "      <td>female</td>\n",
       "      <td>26.000000</td>\n",
       "      <td>7.9250</td>\n",
       "      <td>NaN</td>\n",
       "      <td>1</td>\n",
       "      <td>0</td>\n",
       "    </tr>\n",
       "    <tr>\n",
       "      <th>3</th>\n",
       "      <td>4</td>\n",
       "      <td>1</td>\n",
       "      <td>1</td>\n",
       "      <td>Futrelle, Mrs. Jacques Heath (Lily May Peel)</td>\n",
       "      <td>female</td>\n",
       "      <td>35.000000</td>\n",
       "      <td>53.1000</td>\n",
       "      <td>C123</td>\n",
       "      <td>1</td>\n",
       "      <td>0</td>\n",
       "    </tr>\n",
       "    <tr>\n",
       "      <th>4</th>\n",
       "      <td>5</td>\n",
       "      <td>0</td>\n",
       "      <td>3</td>\n",
       "      <td>Allen, Mr. William Henry</td>\n",
       "      <td>male</td>\n",
       "      <td>35.000000</td>\n",
       "      <td>8.0500</td>\n",
       "      <td>NaN</td>\n",
       "      <td>0</td>\n",
       "      <td>1</td>\n",
       "    </tr>\n",
       "    <tr>\n",
       "      <th>...</th>\n",
       "      <td>...</td>\n",
       "      <td>...</td>\n",
       "      <td>...</td>\n",
       "      <td>...</td>\n",
       "      <td>...</td>\n",
       "      <td>...</td>\n",
       "      <td>...</td>\n",
       "      <td>...</td>\n",
       "      <td>...</td>\n",
       "      <td>...</td>\n",
       "    </tr>\n",
       "    <tr>\n",
       "      <th>886</th>\n",
       "      <td>887</td>\n",
       "      <td>0</td>\n",
       "      <td>2</td>\n",
       "      <td>Montvila, Rev. Juozas</td>\n",
       "      <td>male</td>\n",
       "      <td>27.000000</td>\n",
       "      <td>13.0000</td>\n",
       "      <td>NaN</td>\n",
       "      <td>0</td>\n",
       "      <td>1</td>\n",
       "    </tr>\n",
       "    <tr>\n",
       "      <th>887</th>\n",
       "      <td>888</td>\n",
       "      <td>1</td>\n",
       "      <td>1</td>\n",
       "      <td>Graham, Miss. Margaret Edith</td>\n",
       "      <td>female</td>\n",
       "      <td>19.000000</td>\n",
       "      <td>30.0000</td>\n",
       "      <td>B42</td>\n",
       "      <td>1</td>\n",
       "      <td>0</td>\n",
       "    </tr>\n",
       "    <tr>\n",
       "      <th>888</th>\n",
       "      <td>889</td>\n",
       "      <td>0</td>\n",
       "      <td>3</td>\n",
       "      <td>Johnston, Miss. Catherine Helen \"Carrie\"</td>\n",
       "      <td>female</td>\n",
       "      <td>29.699118</td>\n",
       "      <td>23.4500</td>\n",
       "      <td>NaN</td>\n",
       "      <td>1</td>\n",
       "      <td>0</td>\n",
       "    </tr>\n",
       "    <tr>\n",
       "      <th>889</th>\n",
       "      <td>890</td>\n",
       "      <td>1</td>\n",
       "      <td>1</td>\n",
       "      <td>Behr, Mr. Karl Howell</td>\n",
       "      <td>male</td>\n",
       "      <td>26.000000</td>\n",
       "      <td>30.0000</td>\n",
       "      <td>C148</td>\n",
       "      <td>0</td>\n",
       "      <td>1</td>\n",
       "    </tr>\n",
       "    <tr>\n",
       "      <th>890</th>\n",
       "      <td>891</td>\n",
       "      <td>0</td>\n",
       "      <td>3</td>\n",
       "      <td>Dooley, Mr. Patrick</td>\n",
       "      <td>male</td>\n",
       "      <td>32.000000</td>\n",
       "      <td>7.7500</td>\n",
       "      <td>NaN</td>\n",
       "      <td>0</td>\n",
       "      <td>1</td>\n",
       "    </tr>\n",
       "  </tbody>\n",
       "</table>\n",
       "<p>891 rows × 10 columns</p>\n",
       "</div>"
      ],
      "text/plain": [
       "     PassengerId  Survived  Pclass  \\\n",
       "0              1         0       3   \n",
       "1              2         1       1   \n",
       "2              3         1       3   \n",
       "3              4         1       1   \n",
       "4              5         0       3   \n",
       "..           ...       ...     ...   \n",
       "886          887         0       2   \n",
       "887          888         1       1   \n",
       "888          889         0       3   \n",
       "889          890         1       1   \n",
       "890          891         0       3   \n",
       "\n",
       "                                                  Name     Sex        Age  \\\n",
       "0                              Braund, Mr. Owen Harris    male  22.000000   \n",
       "1    Cumings, Mrs. John Bradley (Florence Briggs Th...  female  38.000000   \n",
       "2                               Heikkinen, Miss. Laina  female  26.000000   \n",
       "3         Futrelle, Mrs. Jacques Heath (Lily May Peel)  female  35.000000   \n",
       "4                             Allen, Mr. William Henry    male  35.000000   \n",
       "..                                                 ...     ...        ...   \n",
       "886                              Montvila, Rev. Juozas    male  27.000000   \n",
       "887                       Graham, Miss. Margaret Edith  female  19.000000   \n",
       "888           Johnston, Miss. Catherine Helen \"Carrie\"  female  29.699118   \n",
       "889                              Behr, Mr. Karl Howell    male  26.000000   \n",
       "890                                Dooley, Mr. Patrick    male  32.000000   \n",
       "\n",
       "        Fare Cabin  female  male  \n",
       "0     7.2500   NaN       0     1  \n",
       "1    71.2833   C85       1     0  \n",
       "2     7.9250   NaN       1     0  \n",
       "3    53.1000  C123       1     0  \n",
       "4     8.0500   NaN       0     1  \n",
       "..       ...   ...     ...   ...  \n",
       "886  13.0000   NaN       0     1  \n",
       "887  30.0000   B42       1     0  \n",
       "888  23.4500   NaN       1     0  \n",
       "889  30.0000  C148       0     1  \n",
       "890   7.7500   NaN       0     1  \n",
       "\n",
       "[891 rows x 10 columns]"
      ]
     },
     "execution_count": 11,
     "metadata": {},
     "output_type": "execute_result"
    }
   ],
   "source": [
    "dummies=pd.get_dummies(df.Sex)\n",
    "merge=pd.concat([df,dummies],axis='columns')\n",
    "merge"
   ]
  },
  {
   "cell_type": "code",
   "execution_count": 12,
   "id": "b9d8f60f",
   "metadata": {
    "execution": {
     "iopub.execute_input": "2021-07-28T16:09:40.789318Z",
     "iopub.status.busy": "2021-07-28T16:09:40.788690Z",
     "iopub.status.idle": "2021-07-28T16:09:41.031898Z",
     "shell.execute_reply": "2021-07-28T16:09:41.032339Z",
     "shell.execute_reply.started": "2021-07-28T16:08:40.623812Z"
    },
    "papermill": {
     "duration": 0.263652,
     "end_time": "2021-07-28T16:09:41.032512",
     "exception": false,
     "start_time": "2021-07-28T16:09:40.768860",
     "status": "completed"
    },
    "tags": []
   },
   "outputs": [
    {
     "data": {
      "text/plain": [
       "<AxesSubplot:xlabel='Survived'>"
      ]
     },
     "execution_count": 12,
     "metadata": {},
     "output_type": "execute_result"
    },
    {
     "data": {
      "image/png": "[encoded data removed]",
      "text/plain": [
       "<Figure size 432x288 with 1 Axes>"
      ]
     },
     "metadata": {
      "needs_background": "light"
     },
     "output_type": "display_data"
    }
   ],
   "source": [
    "pd.crosstab(merge.Survived,merge.Sex).plot(kind='bar')"
   ]
  },
  {
   "cell_type": "code",
   "execution_count": 13,
   "id": "4cc89df1",
   "metadata": {
    "execution": {
     "iopub.execute_input": "2021-07-28T16:09:41.071990Z",
     "iopub.status.busy": "2021-07-28T16:09:41.071390Z",
     "iopub.status.idle": "2021-07-28T16:09:41.076360Z",
     "shell.execute_reply": "2021-07-28T16:09:41.076823Z",
     "shell.execute_reply.started": "2021-07-28T16:08:40.799381Z"
    },
    "papermill": {
     "duration": 0.026115,
     "end_time": "2021-07-28T16:09:41.076986",
     "exception": false,
     "start_time": "2021-07-28T16:09:41.050871",
     "status": "completed"
    },
    "tags": []
   },
   "outputs": [],
   "source": [
    "merge.drop(['Sex'],axis='columns',inplace=True)"
   ]
  },
  {
   "cell_type": "code",
   "execution_count": 14,
   "id": "a839f6f1",
   "metadata": {
    "execution": {
     "iopub.execute_input": "2021-07-28T16:09:41.116668Z",
     "iopub.status.busy": "2021-07-28T16:09:41.116071Z",
     "iopub.status.idle": "2021-07-28T16:09:41.120570Z",
     "shell.execute_reply": "2021-07-28T16:09:41.121007Z",
     "shell.execute_reply.started": "2021-07-28T16:08:40.808051Z"
    },
    "papermill": {
     "duration": 0.025221,
     "end_time": "2021-07-28T16:09:41.121203",
     "exception": false,
     "start_time": "2021-07-28T16:09:41.095982",
     "status": "completed"
    },
    "tags": []
   },
   "outputs": [],
   "source": [
    "merge.drop(['Name'],axis='columns',inplace=True)"
   ]
  },
  {
   "cell_type": "code",
   "execution_count": 15,
   "id": "25f9c8cc",
   "metadata": {
    "execution": {
     "iopub.execute_input": "2021-07-28T16:09:41.160910Z",
     "iopub.status.busy": "2021-07-28T16:09:41.160304Z",
     "iopub.status.idle": "2021-07-28T16:09:41.166934Z",
     "shell.execute_reply": "2021-07-28T16:09:41.167404Z",
     "shell.execute_reply.started": "2021-07-28T16:08:40.821202Z"
    },
    "papermill": {
     "duration": 0.027921,
     "end_time": "2021-07-28T16:09:41.167568",
     "exception": false,
     "start_time": "2021-07-28T16:09:41.139647",
     "status": "completed"
    },
    "tags": []
   },
   "outputs": [
    {
     "data": {
      "text/plain": [
       "PassengerId   -0.005007\n",
       "Survived       1.000000\n",
       "Pclass        -0.338481\n",
       "Age           -0.069809\n",
       "Fare           0.257307\n",
       "female         0.543351\n",
       "male          -0.543351\n",
       "Name: Survived, dtype: float64"
      ]
     },
     "execution_count": 15,
     "metadata": {},
     "output_type": "execute_result"
    }
   ],
   "source": [
    "merge.corr()['Survived']"
   ]
  },
  {
   "cell_type": "code",
   "execution_count": 16,
   "id": "6ee721f8",
   "metadata": {
    "execution": {
     "iopub.execute_input": "2021-07-28T16:09:41.206947Z",
     "iopub.status.busy": "2021-07-28T16:09:41.206359Z",
     "iopub.status.idle": "2021-07-28T16:09:42.326265Z",
     "shell.execute_reply": "2021-07-28T16:09:42.326759Z",
     "shell.execute_reply.started": "2021-07-28T16:08:40.836154Z"
    },
    "papermill": {
     "duration": 1.141065,
     "end_time": "2021-07-28T16:09:42.326928",
     "exception": false,
     "start_time": "2021-07-28T16:09:41.185863",
     "status": "completed"
    },
    "tags": []
   },
   "outputs": [],
   "source": [
    "%matplotlib inline\n",
    "import matplotlib.pyplot as plt\n",
    "import seaborn as sns\n",
    "from sklearn.model_selection import train_test_split"
   ]
  },
  {
   "cell_type": "code",
   "execution_count": 17,
   "id": "c18d3821",
   "metadata": {
    "execution": {
     "iopub.execute_input": "2021-07-28T16:09:42.368424Z",
     "iopub.status.busy": "2021-07-28T16:09:42.367791Z",
     "iopub.status.idle": "2021-07-28T16:09:42.562584Z",
     "shell.execute_reply": "2021-07-28T16:09:42.563038Z",
     "shell.execute_reply.started": "2021-07-28T16:08:40.845095Z"
    },
    "papermill": {
     "duration": 0.217563,
     "end_time": "2021-07-28T16:09:42.563248",
     "exception": false,
     "start_time": "2021-07-28T16:09:42.345685",
     "status": "completed"
    },
    "tags": []
   },
   "outputs": [],
   "source": [
    "from sklearn import tree "
   ]
  },
  {
   "cell_type": "code",
   "execution_count": 18,
   "id": "672f8916",
   "metadata": {
    "execution": {
     "iopub.execute_input": "2021-07-28T16:09:42.605499Z",
     "iopub.status.busy": "2021-07-28T16:09:42.604550Z",
     "iopub.status.idle": "2021-07-28T16:09:42.609352Z",
     "shell.execute_reply": "2021-07-28T16:09:42.608830Z",
     "shell.execute_reply.started": "2021-07-28T16:08:40.856878Z"
    },
    "papermill": {
     "duration": 0.027717,
     "end_time": "2021-07-28T16:09:42.609489",
     "exception": false,
     "start_time": "2021-07-28T16:09:42.581772",
     "status": "completed"
    },
    "tags": []
   },
   "outputs": [],
   "source": [
    "model=tree.DecisionTreeClassifier()"
   ]
  },
  {
   "cell_type": "code",
   "execution_count": 19,
   "id": "f52b6daa",
   "metadata": {
    "execution": {
     "iopub.execute_input": "2021-07-28T16:09:42.652756Z",
     "iopub.status.busy": "2021-07-28T16:09:42.652029Z",
     "iopub.status.idle": "2021-07-28T16:09:42.655663Z",
     "shell.execute_reply": "2021-07-28T16:09:42.655194Z",
     "shell.execute_reply.started": "2021-07-28T16:08:40.869388Z"
    },
    "papermill": {
     "duration": 0.027801,
     "end_time": "2021-07-28T16:09:42.655806",
     "exception": false,
     "start_time": "2021-07-28T16:09:42.628005",
     "status": "completed"
    },
    "tags": []
   },
   "outputs": [
    {
     "data": {
      "text/plain": [
       "Index(['PassengerId', 'Survived', 'Pclass', 'Age', 'Fare', 'Cabin', 'female',\n",
       "       'male'],\n",
       "      dtype='object')"
      ]
     },
     "execution_count": 19,
     "metadata": {},
     "output_type": "execute_result"
    }
   ],
   "source": [
    "merge.columns"
   ]
  },
  {
   "cell_type": "code",
   "execution_count": 20,
   "id": "99660cbf",
   "metadata": {
    "execution": {
     "iopub.execute_input": "2021-07-28T16:09:42.700237Z",
     "iopub.status.busy": "2021-07-28T16:09:42.699589Z",
     "iopub.status.idle": "2021-07-28T16:09:42.702471Z",
     "shell.execute_reply": "2021-07-28T16:09:42.701987Z",
     "shell.execute_reply.started": "2021-07-28T16:08:40.881046Z"
    },
    "papermill": {
     "duration": 0.027542,
     "end_time": "2021-07-28T16:09:42.702614",
     "exception": false,
     "start_time": "2021-07-28T16:09:42.675072",
     "status": "completed"
    },
    "tags": []
   },
   "outputs": [],
   "source": [
    "x= merge[['PassengerId', 'Pclass', 'Age', 'Fare',\n",
    "       'female', 'male']]"
   ]
  },
  {
   "cell_type": "code",
   "execution_count": 21,
   "id": "b2c095e4",
   "metadata": {
    "execution": {
     "iopub.execute_input": "2021-07-28T16:09:42.744700Z",
     "iopub.status.busy": "2021-07-28T16:09:42.743997Z",
     "iopub.status.idle": "2021-07-28T16:09:42.746401Z",
     "shell.execute_reply": "2021-07-28T16:09:42.746779Z",
     "shell.execute_reply.started": "2021-07-28T16:08:40.893888Z"
    },
    "papermill": {
     "duration": 0.025639,
     "end_time": "2021-07-28T16:09:42.746942",
     "exception": false,
     "start_time": "2021-07-28T16:09:42.721303",
     "status": "completed"
    },
    "tags": []
   },
   "outputs": [],
   "source": [
    "y=merge['Survived']"
   ]
  },
  {
   "cell_type": "code",
   "execution_count": 22,
   "id": "c040ec13",
   "metadata": {
    "execution": {
     "iopub.execute_input": "2021-07-28T16:09:42.791376Z",
     "iopub.status.busy": "2021-07-28T16:09:42.790734Z",
     "iopub.status.idle": "2021-07-28T16:09:42.793378Z",
     "shell.execute_reply": "2021-07-28T16:09:42.793773Z",
     "shell.execute_reply.started": "2021-07-28T16:08:40.905752Z"
    },
    "papermill": {
     "duration": 0.027904,
     "end_time": "2021-07-28T16:09:42.793952",
     "exception": false,
     "start_time": "2021-07-28T16:09:42.766048",
     "status": "completed"
    },
    "tags": []
   },
   "outputs": [],
   "source": [
    "xtrain,xtest,ytrain,ytest=train_test_split(x,y,test_size=0.2)"
   ]
  },
  {
   "cell_type": "code",
   "execution_count": 23,
   "id": "adc5a68e",
   "metadata": {
    "execution": {
     "iopub.execute_input": "2021-07-28T16:09:42.834401Z",
     "iopub.status.busy": "2021-07-28T16:09:42.833814Z",
     "iopub.status.idle": "2021-07-28T16:09:42.847330Z",
     "shell.execute_reply": "2021-07-28T16:09:42.847821Z",
     "shell.execute_reply.started": "2021-07-28T16:08:40.919469Z"
    },
    "papermill": {
     "duration": 0.035399,
     "end_time": "2021-07-28T16:09:42.847992",
     "exception": false,
     "start_time": "2021-07-28T16:09:42.812593",
     "status": "completed"
    },
    "tags": []
   },
   "outputs": [
    {
     "data": {
      "text/plain": [
       "DecisionTreeClassifier()"
      ]
     },
     "execution_count": 23,
     "metadata": {},
     "output_type": "execute_result"
    }
   ],
   "source": [
    "model.fit(xtrain,ytrain)"
   ]
  },
  {
   "cell_type": "code",
   "execution_count": 24,
   "id": "34183e28",
   "metadata": {
    "execution": {
     "iopub.execute_input": "2021-07-28T16:09:42.891944Z",
     "iopub.status.busy": "2021-07-28T16:09:42.891331Z",
     "iopub.status.idle": "2021-07-28T16:09:42.895509Z",
     "shell.execute_reply": "2021-07-28T16:09:42.895912Z",
     "shell.execute_reply.started": "2021-07-28T16:08:40.935947Z"
    },
    "papermill": {
     "duration": 0.028994,
     "end_time": "2021-07-28T16:09:42.896082",
     "exception": false,
     "start_time": "2021-07-28T16:09:42.867088",
     "status": "completed"
    },
    "tags": []
   },
   "outputs": [
    {
     "data": {
      "text/plain": [
       "array([1, 0, 0, 0, 0, 0, 0, 1, 1, 1, 0, 1, 1, 0, 0, 0, 0, 1, 1, 0, 1, 0,\n",
       "       0, 1, 0, 0, 0, 0, 0, 1, 1, 1, 0, 0, 0, 1, 0, 1, 0, 0, 0, 1, 0, 0,\n",
       "       1, 0, 0, 0, 0, 0, 0, 1, 0, 0, 1, 0, 1, 0, 1, 0, 0, 0, 0, 1, 0, 0,\n",
       "       0, 0, 0, 1, 0, 0, 1, 1, 1, 0, 1, 1, 1, 0, 0, 1, 0, 0, 0, 1, 0, 0,\n",
       "       0, 1, 0, 0, 1, 0, 1, 0, 1, 0, 1, 1, 0, 1, 1, 1, 0, 0, 0, 0, 0, 0,\n",
       "       1, 0, 0, 0, 0, 0, 1, 1, 0, 0, 0, 0, 0, 0, 1, 1, 0, 1, 0, 1, 0, 0,\n",
       "       1, 0, 1, 0, 0, 0, 0, 0, 0, 1, 0, 0, 1, 0, 1, 1, 0, 0, 0, 1, 0, 0,\n",
       "       0, 0, 0, 1, 1, 0, 0, 0, 0, 0, 0, 0, 1, 1, 0, 0, 0, 1, 0, 1, 1, 0,\n",
       "       0, 1, 1])"
      ]
     },
     "execution_count": 24,
     "metadata": {},
     "output_type": "execute_result"
    }
   ],
   "source": [
    "model.predict(xtest)"
   ]
  },
  {
   "cell_type": "code",
   "execution_count": 25,
   "id": "ba4dc5d4",
   "metadata": {
    "execution": {
     "iopub.execute_input": "2021-07-28T16:09:42.938315Z",
     "iopub.status.busy": "2021-07-28T16:09:42.937637Z",
     "iopub.status.idle": "2021-07-28T16:09:42.944925Z",
     "shell.execute_reply": "2021-07-28T16:09:42.945343Z",
     "shell.execute_reply.started": "2021-07-28T16:08:40.947386Z"
    },
    "papermill": {
     "duration": 0.029651,
     "end_time": "2021-07-28T16:09:42.945510",
     "exception": false,
     "start_time": "2021-07-28T16:09:42.915859",
     "status": "completed"
    },
    "tags": []
   },
   "outputs": [
    {
     "data": {
      "text/plain": [
       "0.7821229050279329"
      ]
     },
     "execution_count": 25,
     "metadata": {},
     "output_type": "execute_result"
    }
   ],
   "source": [
    "model.score(xtest,ytest)"
   ]
  }
 ],
 "metadata": {
  "kernelspec": {
   "display_name": "Python 3",
   "language": "python",
   "name": "python3"
  },
  "language_info": {
   "codemirror_mode": {
    "name": "ipython",
    "version": 3
   },
   "file_extension": ".py",
   "mimetype": "text/x-python",
   "name": "python",
   "nbconvert_exporter": "python",
   "pygments_lexer": "ipython3",
   "version": "3.7.10"
  },
  "papermill": {
   "default_parameters": {},
   "duration": 11.850141,
   "end_time": "2021-07-28T16:09:44.595604",
   "environment_variables": {},
   "exception": null,
   "input_path": "__notebook__.ipynb",
   "output_path": "__notebook__.ipynb",
   "parameters": {},
   "start_time": "2021-07-28T16:09:32.745463",
   "version": "2.3.3"
  }
 },
 "nbformat": 4,
 "nbformat_minor": 5
}
